{
  "nbformat": 4,
  "nbformat_minor": 0,
  "metadata": {
    "colab": {
      "provenance": [],
      "authorship_tag": "ABX9TyOasZSk2ELC/2AAPlfhf0hJ",
      "include_colab_link": true
    },
    "kernelspec": {
      "name": "python3",
      "display_name": "Python 3"
    },
    "language_info": {
      "name": "python"
    }
  },
  "cells": [
    {
      "cell_type": "markdown",
      "metadata": {
        "id": "view-in-github",
        "colab_type": "text"
      },
      "source": [
        "<a href=\"https://colab.research.google.com/github/ililillilili1/test2/blob/DA/page4_numpy.ipynb\" target=\"_parent\"><img src=\"https://colab.research.google.com/assets/colab-badge.svg\" alt=\"Open In Colab\"/></a>"
      ]
    },
    {
      "cell_type": "markdown",
      "source": [
        "#넘파이\n",
        "파이썬에서 배열을 사용하기 위한 표준 패키지"
      ],
      "metadata": {
        "id": "sckDFWswbmFz"
      }
    },
    {
      "cell_type": "markdown",
      "source": [
        "리스트로 배열 생성"
      ],
      "metadata": {
        "id": "BbU3XMEjj__i"
      }
    },
    {
      "cell_type": "code",
      "source": [
        "#1차원배열(list)로 numpy 배열 생성\n",
        "\n",
        "import numpy as np\n",
        "arr=np.array([1,2,3,4,5]) #넘파아의 array함수에 리스트 추가하기\n",
        "print(arr)"
      ],
      "metadata": {
        "colab": {
          "base_uri": "https://localhost:8080/"
        },
        "id": "5TFAVmKykFSi",
        "outputId": "79bab6d5-a0b4-4ef0-d283-46d1da252594"
      },
      "execution_count": null,
      "outputs": [
        {
          "output_type": "stream",
          "name": "stdout",
          "text": [
            "[1 2 3 4 5]\n"
          ]
        }
      ]
    },
    {
      "cell_type": "code",
      "source": [
        "#2차원배열(list)로 numpy 배열 생성\n",
        "import numpy as np\n",
        "arr = np.array([[1,2,3], [4,5,6]])\n",
        "print(arr)"
      ],
      "metadata": {
        "colab": {
          "base_uri": "https://localhost:8080/"
        },
        "id": "SwJKc7QqkqgS",
        "outputId": "45c50e1f-943a-4b4f-bcdc-c91532c8659c"
      },
      "execution_count": null,
      "outputs": [
        {
          "output_type": "stream",
          "name": "stdout",
          "text": [
            "[[1 2 3]\n",
            " [4 5 6]]\n"
          ]
        }
      ]
    },
    {
      "cell_type": "code",
      "source": [
        "#3차원배열(list)로 numpy 배열 생성\n",
        "arr=np.array([[[1,2,3],[4,5,6],[7,8,9]]\n",
        "              , [[1,2,3], [4,5,6], [7,8,9]]\n",
        "              , [[1,2,3], [4,5,6], [7,8,9]]\n",
        "              ])\n",
        "print(arr)"
      ],
      "metadata": {
        "colab": {
          "base_uri": "https://localhost:8080/"
        },
        "id": "-tfjtTypk7V9",
        "outputId": "ff3669af-a854-490c-874c-3ba33de104b8"
      },
      "execution_count": null,
      "outputs": [
        {
          "output_type": "stream",
          "name": "stdout",
          "text": [
            "[[[1 2 3]\n",
            "  [4 5 6]\n",
            "  [7 8 9]]\n",
            "\n",
            " [[1 2 3]\n",
            "  [4 5 6]\n",
            "  [7 8 9]]\n",
            "\n",
            " [[1 2 3]\n",
            "  [4 5 6]\n",
            "  [7 8 9]]]\n"
          ]
        }
      ]
    },
    {
      "cell_type": "markdown",
      "source": [
        "배열 생성 및 초기화\n",
        "\n",
        "#함수\n",
        "- zeros(형태, dtype=타입, order='C') : 주어진 형태와 타입을 갖는 0으로 채워진 배열을 반환\n",
        "- ones(형태, dtype=타입, order'C') : 주어진 형태와 타입을 갖는 1로 채워진 배열을 반환\n",
        "- np.full(형태, fill_value, dtype=None, order='C') : 지정한 shape 배열 생성, 모든 요소를 fill_value  로 채움\n",
        "- np.eye(N,M=None, k=0, dtype=<class 'float'>) : (N,N) 형태의 단위행렬 생성"
      ],
      "metadata": {
        "id": "htwPqU6clfr7"
      }
    },
    {
      "cell_type": "code",
      "source": [
        "a=np.zeros(10)\n",
        "print(a)\n",
        "#[0,0,0,0,0,0,0,0,0,0]\n",
        "\n",
        "b=np.zeros((3,3))\n",
        "print(b)\n",
        "#[[0,0,0]\n",
        "  [0,0,0]\n",
        "  [0,0,0]]\n",
        "\n",
        "c=np.ones(10)\n",
        "print(c)\n",
        "#[1,1,1,1,1,1,1,1,1,1]\n",
        "\n"
      ],
      "metadata": {
        "id": "k_SXCWq4uGOP"
      },
      "execution_count": null,
      "outputs": []
    },
    {
      "cell_type": "markdown",
      "source": [
        "생성한 값으로 배열 생성\n",
        ": 주어진 조건으로 데이터를 생성한 후, 배열을 만듦\n",
        "\n",
        "#np.arrange()\n",
        "import numpy as np\n",
        "numpy.arange([start,]stop[,step,],dtype=None)\n",
        "\n",
        "start 부터 stop 미만까지 step 간격으로 데이터를 생성한 후 배열을 생성"
      ],
      "metadata": {
        "id": "4jiRY4jBuqsg"
      }
    },
    {
      "cell_type": "code",
      "source": [
        "import numpy as np\n",
        "a=np.arange(1,21)\n",
        "print(a)\n",
        "#[ 1 2 3 4 5 .... 20]"
      ],
      "metadata": {
        "id": "AnAa_pKDu1Jq"
      },
      "execution_count": null,
      "outputs": []
    },
    {
      "cell_type": "markdown",
      "source": [
        "#np.linspace()\n",
        "\n",
        "numpy.linspace(start,stop,num)\n",
        "start 부터 stop 까지 범위에서 num개를 균일한 간격으로 데이터를 생성하고 배열을 만드는 함수\n",
        "요소 개수를 기준으로 균등 간격의 배열 생성"
      ],
      "metadata": {
        "id": "5XSPuQbNv4u-"
      }
    },
    {
      "cell_type": "code",
      "source": [
        "a=np.linspace(0,10,5)\n",
        "print(a)"
      ],
      "metadata": {
        "colab": {
          "base_uri": "https://localhost:8080/"
        },
        "id": "zy5xCediwQrr",
        "outputId": "4da3b8de-3f2e-4ddc-8ab0-b37bcac2d7a1"
      },
      "execution_count": null,
      "outputs": [
        {
          "output_type": "stream",
          "name": "stdout",
          "text": [
            "[ 0.   2.5  5.   7.5 10. ]\n"
          ]
        }
      ]
    },
    {
      "cell_type": "markdown",
      "source": [
        "#np.logspace()\n",
        "numpy.logspace(start,stop,num)\n",
        "로그 스케일로 지정된 범위에서 ~ linspace 와 같음"
      ],
      "metadata": {
        "id": "gcEVW9pFx0jo"
      }
    },
    {
      "cell_type": "code",
      "source": [
        "a=np.logspace(np.log10(10),np.log10(100), 5)\n",
        "print(a)\n",
        "\n",
        "b=np.logspace(1,2,5)\n",
        "print(b)"
      ],
      "metadata": {
        "colab": {
          "base_uri": "https://localhost:8080/"
        },
        "id": "XD6nJg2JyDIM",
        "outputId": "d3d56a09-21b7-4f3b-f9e7-4e7c4d64a17f"
      },
      "execution_count": null,
      "outputs": [
        {
          "output_type": "stream",
          "name": "stdout",
          "text": [
            "[ 10.          17.7827941   31.6227766   56.23413252 100.        ]\n",
            "[ 10.          17.7827941   31.6227766   56.23413252 100.        ]\n"
          ]
        }
      ]
    },
    {
      "cell_type": "markdown",
      "source": [
        "#난수 기반 배열 생성\n",
        "\n",
        "<함수>\n",
        "- seed\n",
        "- shuffle : 리스트나 배열의 순서 섞음\n",
        "- random : 랜덤한 수의 배열 생성\n",
        "- randint : 일정 구간의 랜덤 정수 배열 생성\n",
        "- rand : 균등분포에서 표본 추출\n",
        "- randn : 표준편차가 1, 평균값 0인 정규분포의 표본 추출\n",
        "- normal : 정규분포를 고려한 랜덤한 수의 배열 생성\n",
        "\n"
      ],
      "metadata": {
        "id": "33hs181Iyfv3"
      }
    },
    {
      "cell_type": "code",
      "source": [
        "#random\n",
        "\n",
        "a=np.random.random()\n",
        "print(a)\n",
        "a=np.random.random((4,4))\n",
        "print(a)\n",
        "\n",
        "# 왜 0.xxxx로 생성되는걸까\n",
        "\n",
        "\n",
        "#randint\n",
        "a=np.random.randint(1,10)\n",
        "print(a)\n",
        "a=np.random.randint(1,10,(4,4))\n",
        "print(a)\n",
        "\n",
        "#rand\n",
        "#[1,0]의 균등분포 형상으로 표본 추출\n",
        "a=np.random.rand(3,3)\n",
        "print(a)\n",
        "\n",
        "#randn()\n",
        "#표준정규분포에서 표본 추출\n",
        "a=np.random.randn(3,3)\n",
        "print(a)"
      ],
      "metadata": {
        "colab": {
          "base_uri": "https://localhost:8080/"
        },
        "id": "Cz3UDBd8zNTy",
        "outputId": "26fdf14b-5d06-4cc8-b0cd-f3ee74780d51"
      },
      "execution_count": null,
      "outputs": [
        {
          "output_type": "stream",
          "name": "stdout",
          "text": [
            "0.5342069478020676\n",
            "[[0.10526127 0.77524595 0.56924076 0.59248648]\n",
            " [0.85108453 0.6042101  0.00815439 0.83589814]\n",
            " [0.70537887 0.03958462 0.56779908 0.10552847]\n",
            " [0.88190507 0.92886482 0.72303612 0.83891959]]\n",
            "7\n",
            "[[7 9 9 8]\n",
            " [8 1 4 7]\n",
            " [9 1 9 6]\n",
            " [9 1 8 7]]\n",
            "[[0.90948145 0.32747529 0.79106127]\n",
            " [0.43267034 0.60249347 0.41906393]\n",
            " [0.86015709 0.34464875 0.44155278]]\n",
            "[[ 0.21894548 -1.3168515   0.23298474]\n",
            " [-0.56925052 -0.2802524  -0.24744991]\n",
            " [ 0.6339987  -2.85812631 -0.61543259]]\n"
          ]
        }
      ]
    },
    {
      "cell_type": "markdown",
      "source": [],
      "metadata": {
        "id": "AbNAA21x0Xuj"
      }
    },
    {
      "cell_type": "markdown",
      "source": [
        "#배열 변환\n",
        "\n",
        "- 전치\n",
        "- 배열 형태 변경\n",
        "- 배열 요소 추가 및 삭제\n",
        "- 배열 결합\n",
        "- 배열 분리"
      ],
      "metadata": {
        "id": "qJuPRhR-wlsV"
      }
    },
    {
      "cell_type": "code",
      "source": [
        "#전치: 행렬의 인덱스가 바뀌는 변환\n",
        "\n",
        "import numpy as np\n",
        "\n",
        "a=np.random.randint(1,10,(3,3))\n",
        "print(a)\n",
        "print(a.T)\n"
      ],
      "metadata": {
        "colab": {
          "base_uri": "https://localhost:8080/"
        },
        "id": "LctBSgxaw1jz",
        "outputId": "71bf8578-472d-4cb3-ca16-40e385c4d5cc"
      },
      "execution_count": null,
      "outputs": [
        {
          "output_type": "stream",
          "name": "stdout",
          "text": [
            "[[5 8 5]\n",
            " [1 2 8]\n",
            " [9 4 2]]\n",
            "[[5 1 9]\n",
            " [8 2 4]\n",
            " [5 8 2]]\n"
          ]
        }
      ]
    },
    {
      "cell_type": "code",
      "source": [
        "#배열 형태 변경\n",
        "\n",
        "import numpy as np\n",
        "\n",
        "#ravel : 배열을 1차원 배열로 변환\n",
        "a=np.array([[1,2,3], [4,5,6]])\n",
        "a.ravel() #?\n",
        "print(a)\n",
        "b=a.ravel()\n",
        "b[0] = 10\n",
        "print(b) #[10,2,3,4,5,6]\n",
        "print(a)\n",
        "\n",
        "print('\\n')\n",
        "\n",
        "#reshape : np.ndarray 의 shape 변경\n",
        "x=np.arange(20)\n",
        "y=x.reshape(4,5)\n",
        "print(y)\n",
        "x[0] = 10\n",
        "print(x)\n",
        "print(y)\n",
        "\n",
        "print('\\n')\n",
        "\n",
        "#다차원 list 데이터를 reshape 하기\n",
        "\n",
        "list_data=[1,2,3,4,5,6]\n",
        "data=np.array(list_data)\n",
        "type(data)\n",
        "print(data.reshape(3,2))\n",
        "print(list_data)\n",
        "\n"
      ],
      "metadata": {
        "colab": {
          "base_uri": "https://localhost:8080/"
        },
        "id": "DWxCi2bFy0Mi",
        "outputId": "30690124-1ec9-4d1d-d3ab-d2afa4abbcc7"
      },
      "execution_count": null,
      "outputs": [
        {
          "output_type": "stream",
          "name": "stdout",
          "text": [
            "[[1 2 3]\n",
            " [4 5 6]]\n",
            "[10  2  3  4  5  6]\n",
            "[[10  2  3]\n",
            " [ 4  5  6]]\n",
            "\n",
            "\n",
            "[[ 0  1  2  3  4]\n",
            " [ 5  6  7  8  9]\n",
            " [10 11 12 13 14]\n",
            " [15 16 17 18 19]]\n",
            "[10  1  2  3  4  5  6  7  8  9 10 11 12 13 14 15 16 17 18 19]\n",
            "[[10  1  2  3  4]\n",
            " [ 5  6  7  8  9]\n",
            " [10 11 12 13 14]\n",
            " [15 16 17 18 19]]\n",
            "\n",
            "\n",
            "[[1 2]\n",
            " [3 4]\n",
            " [5 6]]\n",
            "[1, 2, 3, 4, 5, 6]\n"
          ]
        }
      ]
    },
    {
      "cell_type": "code",
      "source": [
        "#배열 요소 추가 및 삭제\n",
        "\n",
        "#resize 함수\n",
        "x=np.arange(20)\n",
        "y=np.resize(x,(5,4))\n",
        "y\n",
        "#요소 수가 더 많은 경우\n",
        "z=np.resize(x,(5,6)) #이렇게 요소 수를 조절해도 다른 배열에는 영향 없음\n",
        "z\n",
        "\n",
        "#append 함수 : 값 추가\n",
        "a = np.arange(3)\n",
        "b = np.append(a,3)\n",
        "print(b)\n",
        "\n",
        "#배열 추가\n",
        "a=np.array([[1,2,3],[4,5,6]])\n",
        "b=np.array([[7,8,9]])\n",
        "c=np.append(a,b)\n",
        "print(c) #축을 지정하지 않을 경우 1차원 배열로 변환되어 생성\n",
        "d=np.append(a,b,axis=0)\n",
        "print(d) #축을 지정할 경우 2차원 배열로 출력\n",
        "\n",
        "print(\"\\n\")\n",
        "\n",
        "#insert 함수 : 주어진 축에 대해 주어진 인덱스 앞에 값을 삽입함\n",
        "a=np.array([[1,1],[2,2],[3,3]])\n",
        "d=np.insert(a,1,5,axis=1)\n",
        "c=np.insert(a,1,5,axis=0)\n",
        "b=np.insert(a,1,5) #축 지정 X 이므로 1차원 배열로 반환\n",
        "print(a)\n",
        "print(b) #1차원\n",
        "print(c) #배열의 첫번쨰 축을 따라 5 삽입\n",
        "print(d) #배열의 두번째 축을 따라 5 삽입\n",
        "\n",
        "print(\"\\n\")\n",
        "\n",
        "#delete 함수 : 인덱스 배열의 요소 또는 서브 배열 제거\n",
        "a=np.arange(12).reshape(3,4)\n",
        "print(a)\n",
        "print(np.delete(a,5))\n",
        "print(np.delete(a,1,axis=0))\n",
        "print(np.delete(a,1,axis=1))\n"
      ],
      "metadata": {
        "colab": {
          "base_uri": "https://localhost:8080/"
        },
        "id": "XmaZVX6DTqJx",
        "outputId": "a2d35481-fe34-497f-ce90-626257f279c0"
      },
      "execution_count": null,
      "outputs": [
        {
          "output_type": "stream",
          "name": "stdout",
          "text": [
            "[0 1 2 3]\n",
            "[1 2 3 4 5 6 7 8 9]\n",
            "[[1 2 3]\n",
            " [4 5 6]\n",
            " [7 8 9]]\n",
            "\n",
            "\n",
            "[[1 1]\n",
            " [2 2]\n",
            " [3 3]]\n",
            "[1 5 1 2 2 3 3]\n",
            "[[1 1]\n",
            " [5 5]\n",
            " [2 2]\n",
            " [3 3]]\n",
            "[[1 5 1]\n",
            " [2 5 2]\n",
            " [3 5 3]]\n",
            "\n",
            "\n",
            "[[ 0  1  2  3]\n",
            " [ 4  5  6  7]\n",
            " [ 8  9 10 11]]\n",
            "[ 0  1  2  3  4  6  7  8  9 10 11]\n",
            "[[ 0  1  2  3]\n",
            " [ 8  9 10 11]]\n",
            "[[ 0  2  3]\n",
            " [ 4  6  7]\n",
            " [ 8 10 11]]\n"
          ]
        }
      ]
    },
    {
      "cell_type": "code",
      "source": [
        "#배열 결합\n",
        "\n",
        "#concatenate 함수 : 배열의 시퀀스를 지정한 축을 따라 연결한다\n",
        "a1=np.array([[1,2,3]])\n",
        "a2=np.array([[4,5,6]])\n",
        "arr=np.concatenate((a1,a2))\n",
        "arr1=np.concatenate((a1,a2),axis=0) #첫번쨰줄(세로) 를 따라 연결\n",
        "arr2=np.concatenate((a1,a2),axis=1) #두번째줄(가로) 를 따라 연결\n",
        "print(arr)\n",
        "print(arr1)\n",
        "print(arr2)\n",
        "\n",
        "print(\"\\n\")\n",
        "#vstack 함수 : 배열의 시퀀스를 지정한 축을 따라 연결한다 (세로(axis=0)연결만 가능)\n",
        "a1=np.array([1,2,3])\n",
        "a2=np.array([4,5,6])\n",
        "np.vstack((a1,a2))\n",
        "print(\"\\n\")\n",
        "\n",
        "#hstack함수 : 배열의 시퀀스를 지정한 축을 따라 연결한다 (가로(axis=1)연결만 가능)\n",
        "a1=np.array([1,2,3])\n",
        "a2=np.array([4,5,6])\n",
        "np.hstack((a1,a2))\n",
        "print(\"\\n\")\n"
      ],
      "metadata": {
        "colab": {
          "base_uri": "https://localhost:8080/"
        },
        "id": "oNQzti7aYQEY",
        "outputId": "7a291053-2d04-4c66-ab24-03232efc8924"
      },
      "execution_count": null,
      "outputs": [
        {
          "output_type": "stream",
          "name": "stdout",
          "text": [
            "[[1 2 3]\n",
            " [4 5 6]]\n",
            "[[1 2 3]\n",
            " [4 5 6]]\n",
            "[[1 2 3 4 5 6]]\n",
            "\n",
            "\n",
            "\n",
            "\n",
            "\n",
            "\n"
          ]
        }
      ]
    },
    {
      "cell_type": "code",
      "source": [
        "#배열 분리\n",
        "\n",
        "#hsplit함수 : 배열을 수평 방향으로 분할\n",
        "#vsplit함수 : 배열을 수직 방향으로 분할\n",
        "\n",
        "a=np.arange(16).reshape(4,4)\n",
        "a_hsplit=np.hsplit(a,2)\n",
        "a_vsplit=np.vsplit(a,2)\n",
        "print(a)\n",
        "print(a_hsplit)\n",
        "print(a_vsplit)"
      ],
      "metadata": {
        "colab": {
          "base_uri": "https://localhost:8080/"
        },
        "id": "9th1Grgza1D6",
        "outputId": "bee1d961-7f36-4f36-b371-c8b5cae89478"
      },
      "execution_count": null,
      "outputs": [
        {
          "output_type": "stream",
          "name": "stdout",
          "text": [
            "[[ 0  1  2  3]\n",
            " [ 4  5  6  7]\n",
            " [ 8  9 10 11]\n",
            " [12 13 14 15]]\n",
            "[array([[ 0,  1],\n",
            "       [ 4,  5],\n",
            "       [ 8,  9],\n",
            "       [12, 13]]), array([[ 2,  3],\n",
            "       [ 6,  7],\n",
            "       [10, 11],\n",
            "       [14, 15]])]\n",
            "[array([[0, 1, 2, 3],\n",
            "       [4, 5, 6, 7]]), array([[ 8,  9, 10, 11],\n",
            "       [12, 13, 14, 15]])]\n"
          ]
        }
      ]
    },
    {
      "cell_type": "markdown",
      "source": [
        "#연습문제"
      ],
      "metadata": {
        "id": "MhX5X32pHv0W"
      }
    },
    {
      "cell_type": "code",
      "source": [
        "import numpy as np\n",
        "\n",
        "#1\n",
        "arr=np.arange(1,11)\n",
        "print(arr)\n",
        "print('ndim', arr.ndim)\n",
        "print('(%d,)' %arr[9])\n",
        "print('int%d' %(arr[7]*arr[7]))\n",
        "print('size:%d' %(arr[9]))"
      ],
      "metadata": {
        "colab": {
          "base_uri": "https://localhost:8080/"
        },
        "id": "imRZKKYzJp_8",
        "outputId": "c157a0f7-2552-44d3-c4c0-681924bd072e"
      },
      "execution_count": null,
      "outputs": [
        {
          "output_type": "stream",
          "name": "stdout",
          "text": [
            "[ 1  2  3  4  5  6  7  8  9 10]\n",
            "ndim 1\n",
            "(10,)\n",
            "int64\n",
            "size:10\n"
          ]
        }
      ]
    },
    {
      "cell_type": "code",
      "source": [
        "#2\n",
        "import numpy as np\n",
        "\n",
        "#2_1\n",
        "arr=np.arange(10,51)\n",
        "arr_reverse=np.flip(arr)\n",
        "print(arr_reverse)\n",
        "print('\\n')\n",
        "\n",
        "#2_2\n",
        "arr=np.random.random((10,10))\n",
        "print(arr.min(),end=' ')\n",
        "print(arr.max())\n",
        "print('\\n')\n",
        "\n",
        "#2_3\n",
        "arr=np.arange(9).reshape(3,3)\n",
        "print(arr)\n",
        "print('\\n')\n",
        "\n",
        "#2_4\n",
        "arr=np.arange(1,25).reshape(4,6)\n",
        "print(arr)\n",
        "print('\\n')\n",
        "\n",
        "#2_5\n",
        "arr2=np.delete(arr,0,axis=1)\n",
        "arr2=np.delete(arr2,4,axis=1)\n",
        "arr2=np.delete(arr2,0,axis=0)\n",
        "arr2=np.delete(arr2,2,axis=0)\n",
        "print(arr2)\n",
        "print('\\n')\n",
        "\n",
        "#2_6\n",
        "arr1=np.delete(arr,0,axis=0)\n",
        "arr1=np.delete(arr1,0,axis=0)\n",
        "arr1=np.flip(arr1,axis=1)\n",
        "print(arr1)\n",
        "print('\\n')\n",
        "\n",
        "#2_7\n",
        "print(arr[arr%2==0])\n",
        "\n",
        "#2_8\n",
        "print(arr[(arr>=10)&(arr<=20)])\n"
      ],
      "metadata": {
        "colab": {
          "base_uri": "https://localhost:8080/"
        },
        "id": "bKzqIwZkLTfb",
        "outputId": "3377f7bf-1517-4483-8fec-9e33662c9209"
      },
      "execution_count": null,
      "outputs": [
        {
          "output_type": "stream",
          "name": "stdout",
          "text": [
            "[50 49 48 47 46 45 44 43 42 41 40 39 38 37 36 35 34 33 32 31 30 29 28 27\n",
            " 26 25 24 23 22 21 20 19 18 17 16 15 14 13 12 11 10]\n",
            "\n",
            "\n",
            "0.030346993097837838 0.9828927454714652\n",
            "\n",
            "\n",
            "[[0 1 2]\n",
            " [3 4 5]\n",
            " [6 7 8]]\n",
            "\n",
            "\n",
            "[[ 1  2  3  4  5  6]\n",
            " [ 7  8  9 10 11 12]\n",
            " [13 14 15 16 17 18]\n",
            " [19 20 21 22 23 24]]\n",
            "\n",
            "\n",
            "[[ 8  9 10 11]\n",
            " [14 15 16 17]]\n",
            "\n",
            "\n",
            "[[18 17 16 15 14 13]\n",
            " [24 23 22 21 20 19]]\n",
            "\n",
            "\n",
            "[ 2  4  6  8 10 12 14 16 18 20 22 24]\n",
            "[10 11 12 13 14 15 16 17 18 19 20]\n"
          ]
        }
      ]
    },
    {
      "cell_type": "code",
      "source": [
        "#3\n",
        "import numpy as np\n",
        "arr=np.arange(1,21)\n",
        "print('마지막 원소:', arr[19])\n",
        "print('모든 원소의 합:', np.sum(arr))\n",
        "print('모든 원소의 평균:', np.sum(arr)/len(arr))"
      ],
      "metadata": {
        "colab": {
          "base_uri": "https://localhost:8080/"
        },
        "id": "i0ECciudSpw6",
        "outputId": "50afed4c-7b62-4c9e-e7c0-22ad542c1487"
      },
      "execution_count": null,
      "outputs": [
        {
          "output_type": "stream",
          "name": "stdout",
          "text": [
            "마지막 원소: 20\n",
            "모든 원소의 합: 210\n",
            "모든 원소의 평균: 10.5\n"
          ]
        }
      ]
    },
    {
      "cell_type": "code",
      "source": [
        "#4\n",
        "import numpy as np\n",
        "salary = [200,100,150,180,220,250]\n",
        "new_salary=np.array(salary, dtype='float64')*1.5\n",
        "print('인상된 금액: ', new_salary)\n",
        "avg_salary=np.sum(new_salary)/len(new_salary)\n",
        "print('평균 금액: ', avg_salary)\n",
        "result=np.array(new_salary>avg_salary)\n",
        "print('평균이상인 원소: ', new_salary[result])\n",
        "print('평균이상인 원소의 개수: ', np.sum(result)) #?"
      ],
      "metadata": {
        "colab": {
          "base_uri": "https://localhost:8080/"
        },
        "id": "BQMtfsS8T06k",
        "outputId": "c72fc4de-b31a-4554-bc4e-405b6bcd1fe1"
      },
      "execution_count": null,
      "outputs": [
        {
          "output_type": "stream",
          "name": "stdout",
          "text": [
            "인상된 금액:  [300. 150. 225. 270. 330. 375.]\n",
            "평균 금액:  275.0\n",
            "평균이상인 원소:  [300. 330. 375.]\n",
            "평균이상인 원소의 개수:  3\n"
          ]
        }
      ]
    },
    {
      "cell_type": "markdown",
      "source": [],
      "metadata": {
        "id": "Um59oQQQTrzb"
      }
    }
  ]
}