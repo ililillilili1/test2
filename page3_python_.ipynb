{
  "nbformat": 4,
  "nbformat_minor": 0,
  "metadata": {
    "colab": {
      "provenance": [],
      "authorship_tag": "ABX9TyPagsU27QRGYy829thnAHfg",
      "include_colab_link": true
    },
    "kernelspec": {
      "name": "python3",
      "display_name": "Python 3"
    },
    "language_info": {
      "name": "python"
    }
  },
  "cells": [
    {
      "cell_type": "markdown",
      "metadata": {
        "id": "view-in-github",
        "colab_type": "text"
      },
      "source": [
        "<a href=\"https://colab.research.google.com/github/ililillilili1/test2/blob/DA/page3_python_.ipynb\" target=\"_parent\"><img src=\"https://colab.research.google.com/assets/colab-badge.svg\" alt=\"Open In Colab\"/></a>"
      ]
    },
    {
      "cell_type": "markdown",
      "source": [
        "파이썬 기본 문법\n",
        "- 콜론과 들여쓰기\n",
        "it/for/def 끝에만 콜론(;) 붙힘\n",
        "- 주석 처리\n",
        "- 자동완성\n",
        "- 예약어\n",
        "\n",
        "1. 변수 선언\n",
        "- 이름 = 값\n",
        "ex) x = 10\n",
        "2. 주석\n",
        "- #\n",
        "- ~/~\n",
        "3. 산술 연산자\n",
        "- '/' = 나누기\n",
        "- ** = 거듭제곱\n",
        "- '//' = 몫\n",
        "\n",
        "4. 표준 입력\n",
        "5. 표준 출력\n",
        "- 콤마(,) 이용 출력\n",
        "- % 형식지정자 이용 출력\n",
        "- format 함수 이용 출력\n",
        "- f-string 포맷팅\n",
        "\n",
        "6. 컬렉션 자료형\n",
        "- 리스트 []\n",
        "- 튜플 ()\n",
        "- 딕셔너리 {키:값}\n",
        "- 세트 {}\n",
        "\n",
        "7. 리트스 내포 처리 과정\n",
        "(1) 항목들에서 순차적으로 하나씩 꺼내 온다\n",
        "(2) 조건식을 적용하여 해당 조건에 맞는 항목은 추출, 조건에 맞지 않으면 무시\n",
        "(3) 위에서 추출된 항목 리스트에 추가\n",
        "(1)\n",
        ".\n",
        ".\n",
        "\n"
      ],
      "metadata": {
        "id": "0GehvKwVjpP5"
      }
    },
    {
      "cell_type": "code",
      "source": [
        "#표준 입력\n",
        "\n",
        "name=input('이름 입력: ')\n",
        "print(name)\n"
      ],
      "metadata": {
        "colab": {
          "base_uri": "https://localhost:8080/"
        },
        "id": "uOLM7RiPkrU5",
        "outputId": "71549cda-134f-482f-b257-cfe3e1fe1cbf"
      },
      "execution_count": null,
      "outputs": [
        {
          "output_type": "stream",
          "name": "stdout",
          "text": [
            "이름 입력: 파이썬\n",
            "파이썬\n"
          ]
        }
      ]
    },
    {
      "cell_type": "code",
      "source": [
        "name = input('이름: ')\n",
        "print('입력하신 이름은', name)\n",
        "print('입력하신 이름은 %s' %name)\n",
        "\n",
        "\n"
      ],
      "metadata": {
        "colab": {
          "base_uri": "https://localhost:8080/"
        },
        "id": "AH0fzdN8lPQB",
        "outputId": "6c137f9b-0f83-479d-d303-5731cb25b824"
      },
      "execution_count": null,
      "outputs": [
        {
          "output_type": "stream",
          "name": "stdout",
          "text": [
            "이름: 최은우\n",
            "입력하신 이름은 최은우\n",
            "입력하신 이름은 최은우\n"
          ]
        }
      ]
    },
    {
      "cell_type": "code",
      "source": [
        "a=int(input('입력: '))\n",
        "b=int(input('입력: '))\n",
        "\n",
        "print('%d + %d = %d' %(a, b, a+b))\n",
        "print('{0}*{1}={2}'.format(a,b,a*b))\n",
        "print(f'{a}-{b}={a-b}')\n"
      ],
      "metadata": {
        "colab": {
          "base_uri": "https://localhost:8080/"
        },
        "id": "tC-n_oaUlwcx",
        "outputId": "7ae73c75-1a5d-4ef2-8aad-24197fc67b8c"
      },
      "execution_count": null,
      "outputs": [
        {
          "output_type": "stream",
          "name": "stdout",
          "text": [
            "입력: 10\n",
            "입력: 20\n",
            "10 + 20 = 30\n",
            "10*20=200\n",
            "10-20=-10\n"
          ]
        }
      ]
    },
    {
      "cell_type": "code",
      "source": [
        "#리스트\n",
        "\n",
        "#빈 리스트 생성\n",
        "\n",
        "a=[]\n",
        "print(a)\n",
        "\n",
        "b=list()\n",
        "print(b)\n",
        "\n",
        "c=[1,2,3,4,5]\n",
        "print(c)\n",
        "\n",
        "#a[-1] = 리스트의 마지막 값 가져옴\n",
        "\n",
        "#리스트 슬라이싱\n",
        "a=[10,20,30,40]\n",
        "a[1:3] == b[20,30]\n",
        "\n",
        "c=[50,40,30,[20,10]]\n",
        "c[3][0] = 20\n",
        "c[:2] = [50,40]\n",
        "c[1:] = [40,30,[20,10]]\n",
        "c[-1] = [20,10]\n",
        "\n",
        "#리스트 제어 함수\n",
        "리스트.append() : 리스트에 요소를 마지막 위치로 추가\n",
        "리스트.insert() : 리스트의 해당 위치에 요소를 새로 삽입\n",
        "리스트.sort() : 오름차순정렬\n",
        "리스트.reverse() : 거꾸로 뒤집기\n",
        "리스트.pop(위치) : 제거\n",
        "리스트.remove() : 해당 요소를 찾아 제거\n",
        "리스트.count() : 해당 요소의 개수를 반환\n",
        "리스트.index(값) : 리스트에 위치 값이 있으면 위치값을 반완\n",
        "len(리스트) : 리스트 총 요소 개수를 반환\n",
        "\n",
        "\n"
      ],
      "metadata": {
        "id": "bAwUIhV2pIFO"
      },
      "execution_count": null,
      "outputs": []
    },
    {
      "cell_type": "code",
      "source": [
        "#튜플 자료형\n",
        "#튜플명 = (값1, 값2, 값3, ....)\n",
        "#튜플명 = tuple(...)\n",
        "#튜플은 저장된 데이터를 변경시킬 수 없다는 것을 제외하면 리스트와 동일함"
      ],
      "metadata": {
        "id": "L_PBt67srRPf"
      },
      "execution_count": null,
      "outputs": []
    },
    {
      "cell_type": "code",
      "source": [
        "#딕셔너리 자료형 : 1:1 대응되는 key 와 value 로 값을 찾는다.\n",
        "\n",
        "#딕셔너리명 = {key1:value1, key2:value2,....}\n",
        "#딕셔너리면 = dict()\n",
        "\n",
        "menu = {'김밥':3000, '라면':5000}\n",
        "menu['김밥']\n",
        "\n",
        "#딕셔너리 제어 함수\n",
        "딕셔너리.get(key) : 항목 접근하기\n",
        "딕셔너리.pop(key) : 항목 꺼내고 삭제하기\n",
        "del(딕셔너리[key]) : 항복 삭제하기\n",
        "딕셔너리.items() : 딕셔너리에 저장된 모든 키와 값 반환\n",
        "딕셔너리.keys() : 딕셔너리에 저장된 모든 키 반환\n",
        "딕셔너리.values() : 딕셔너리에 저장된 모든 값 반환\n"
      ],
      "metadata": {
        "id": "kzSBX71_rr53"
      },
      "execution_count": null,
      "outputs": []
    },
    {
      "cell_type": "code",
      "source": [
        "#세트 자료형 : 중복을 허용하지 않는 컬렉션 자료형. 순서가 없어 인덱싱 불가\n",
        "#세트명 = {}\n",
        "\n",
        "a={10,20,30}\n",
        "print(a)\n",
        "\n",
        "b=set([30,20,10])\n",
        "print(a)\n",
        "\n",
        "#세트 연산\n",
        "A={10,20,30}\n",
        "B={40,20}\n",
        "A&B #{20} == A.intersection(B)\n",
        "A|B\n",
        "\n",
        "#세트 제어 함수\n",
        "세트1.intersection(세트2) : 교집합\n",
        "세트1.union(세트2) : 합집합\n",
        "세트1.difference(세트2) : 차집합\n",
        "세트.add(값) : 세트에 값 추가\n",
        "세트.update([값1, 값2]) : 세트에 값 여러 개 추가\n",
        "세트.remove(값) : 세트의 특정 값 삭제"
      ],
      "metadata": {
        "id": "-kb2HAMFs52k"
      },
      "execution_count": null,
      "outputs": []
    },
    {
      "cell_type": "code",
      "source": [
        "#리스트 내포\n",
        "\n",
        "- for~in\n",
        "[x for x in list1]\n",
        "[x+5 for x in list1]\n",
        "- for~in~if\n",
        "[x for x in list1 if x>0]\n",
        "\n",
        "#선택문\n",
        "\n",
        "#if-else 문 중간에 있는 else 는 elif 로 쓰기\n",
        "member = input('회원이십니다(y/n) ')\n",
        "if member == 'y':\n",
        "    print('반갑습니다')\n",
        "\n",
        "#for & while 문\n",
        "\n",
        "for x in range(5) :\n",
        "  print('*'*(x+1))\n",
        "\n",
        "year = 1\n",
        "while year <= 3 :\n",
        "  print(f'서당개 {year}년')\n",
        "  year += 1:\n",
        "print('풍월을 읊습니다.')\n",
        "\n",
        "\n",
        "main = {'베이컨', '크래미'}\n",
        "side = ['당근', '오이']\n",
        "x=1\n",
        "for m in main :\n",
        "  for s in side :\n",
        "    print(f'{x}: {m}+{s}+계란')\n",
        "    x+=1"
      ],
      "metadata": {
        "id": "rnz91FbBOhXU"
      },
      "execution_count": null,
      "outputs": []
    },
    {
      "cell_type": "code",
      "source": [
        "#함수\n",
        "\n",
        "#사용자 정의 함수\n",
        "def 함수이름(매개변수)\n",
        "  문장1\n",
        "  .\n",
        "  .\n",
        "  .\n",
        "  return 결괏값\n",
        "\n",
        "def cylinder volume(height, radius=5):\n",
        "  pi = 3.14\n",
        "  return height*pi*radius**2"
      ],
      "metadata": {
        "id": "0OJYmW7mYWCZ"
      },
      "execution_count": null,
      "outputs": []
    },
    {
      "cell_type": "code",
      "source": [
        "#브로드캐스팅\n",
        "\n",
        "x=np.arange(5).reshape((3,2))\n",
        "y=np.arange(8).reshape()"
      ],
      "metadata": {
        "id": "geHZaQ2dhPC5"
      },
      "execution_count": null,
      "outputs": []
    }
  ]
}